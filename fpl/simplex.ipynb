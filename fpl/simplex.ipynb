{
 "cells": [
  {
   "cell_type": "code",
   "execution_count": 1,
   "metadata": {},
   "outputs": [],
   "source": [
    "import pandas as pd\n",
    "from rapidfuzz import process, fuzz\n",
    "import unidecode\n",
    "import pulp"
   ]
  },
  {
   "cell_type": "code",
   "execution_count": 2,
   "metadata": {},
   "outputs": [],
   "source": [
    "df = pd.read_html(\"fbref_shooting_2324.html\")[0]"
   ]
  },
  {
   "cell_type": "code",
   "execution_count": 3,
   "metadata": {},
   "outputs": [],
   "source": [
    "df.columns = df.columns.droplevel(0)"
   ]
  },
  {
   "cell_type": "code",
   "execution_count": 4,
   "metadata": {},
   "outputs": [],
   "source": [
    "df.to_csv(\"fbref_shooting_2324_raw.csv\", index=False)"
   ]
  },
  {
   "cell_type": "code",
   "execution_count": 5,
   "metadata": {},
   "outputs": [],
   "source": [
    "df = df[df['Rk'] != 'Rk']"
   ]
  },
  {
   "cell_type": "code",
   "execution_count": 6,
   "metadata": {},
   "outputs": [],
   "source": [
    "df['npxG'] = pd.to_numeric(df['npxG'])"
   ]
  },
  {
   "cell_type": "code",
   "execution_count": 7,
   "metadata": {},
   "outputs": [],
   "source": [
    "df_fpl_data = pd.read_csv(\"https://raw.githubusercontent.com/vaastav/Fantasy-Premier-League/master/data/2024-25/cleaned_players.csv\")"
   ]
  },
  {
   "cell_type": "code",
   "execution_count": 8,
   "metadata": {},
   "outputs": [],
   "source": [
    "df = df[df['Squad'] != 'Burnley']\n",
    "df = df[df['Squad'] != 'Luton Town']\n",
    "df = df[df['Squad'] != 'Sheffield Utd']"
   ]
  },
  {
   "cell_type": "code",
   "execution_count": 9,
   "metadata": {},
   "outputs": [
    {
     "name": "stderr",
     "output_type": "stream",
     "text": [
      "C:\\Users\\Peter\\AppData\\Local\\Temp\\ipykernel_20528\\3757950473.py:10: SettingWithCopyWarning: \n",
      "A value is trying to be set on a copy of a slice from a DataFrame.\n",
      "Try using .loc[row_indexer,col_indexer] = value instead\n",
      "\n",
      "See the caveats in the documentation: https://pandas.pydata.org/pandas-docs/stable/user_guide/indexing.html#returning-a-view-versus-a-copy\n",
      "  df1['processed_name'] = df1['Player'].apply(preprocess_name)\n",
      "C:\\Users\\Peter\\AppData\\Local\\Temp\\ipykernel_20528\\3757950473.py:11: SettingWithCopyWarning: \n",
      "A value is trying to be set on a copy of a slice from a DataFrame.\n",
      "Try using .loc[row_indexer,col_indexer] = value instead\n",
      "\n",
      "See the caveats in the documentation: https://pandas.pydata.org/pandas-docs/stable/user_guide/indexing.html#returning-a-view-versus-a-copy\n",
      "  df2['processed_name'] = (df2['first_name'] + ' ' + df2['second_name']).apply(preprocess_name)\n",
      "C:\\Users\\Peter\\AppData\\Local\\Temp\\ipykernel_20528\\3757950473.py:23: SettingWithCopyWarning: \n",
      "A value is trying to be set on a copy of a slice from a DataFrame.\n",
      "Try using .loc[row_indexer,col_indexer] = value instead\n",
      "\n",
      "See the caveats in the documentation: https://pandas.pydata.org/pandas-docs/stable/user_guide/indexing.html#returning-a-view-versus-a-copy\n",
      "  df1['matched_name'], df1['score'] = zip(*df1.apply(match_names_with_score, axis=1, choices=choices))\n",
      "C:\\Users\\Peter\\AppData\\Local\\Temp\\ipykernel_20528\\3757950473.py:23: SettingWithCopyWarning: \n",
      "A value is trying to be set on a copy of a slice from a DataFrame.\n",
      "Try using .loc[row_indexer,col_indexer] = value instead\n",
      "\n",
      "See the caveats in the documentation: https://pandas.pydata.org/pandas-docs/stable/user_guide/indexing.html#returning-a-view-versus-a-copy\n",
      "  df1['matched_name'], df1['score'] = zip(*df1.apply(match_names_with_score, axis=1, choices=choices))\n"
     ]
    }
   ],
   "source": [
    "# Sample DataFrames\n",
    "df1 = df[[\"Player\", \"npxG\"]]\n",
    "\n",
    "df2 = df_fpl_data[['first_name', 'second_name', 'element_type', 'now_cost']]\n",
    "\n",
    "# Function to preprocess names (remove accents, lowercase)\n",
    "def preprocess_name(name):\n",
    "    return unidecode.unidecode(name).lower()\n",
    "\n",
    "df1['processed_name'] = df1['Player'].apply(preprocess_name)\n",
    "df2['processed_name'] = (df2['first_name'] + ' ' + df2['second_name']).apply(preprocess_name)\n",
    "\n",
    "# Fuzzy matching\n",
    "def match_names_with_score(row, choices, scorer=fuzz.token_sort_ratio, threshold=60):\n",
    "    match, score, _ = process.extractOne(row['processed_name'], choices, scorer=scorer)\n",
    "    if score >= threshold:\n",
    "        return match, score\n",
    "    else:\n",
    "        return None, None\n",
    "\n",
    "# Perform the fuzzy matching\n",
    "choices = df2['processed_name'].tolist()\n",
    "df1['matched_name'], df1['score'] = zip(*df1.apply(match_names_with_score, axis=1, choices=choices))\n",
    "\n",
    "# Merge DataFrames\n",
    "merged_df = pd.merge(df1, df2, left_on='matched_name', right_on='processed_name', how='left')\n",
    "\n",
    "# Drop intermediate columns if needed\n",
    "merged_df = merged_df.drop(columns=['processed_name_x', 'processed_name_y'])"
   ]
  },
  {
   "cell_type": "code",
   "execution_count": 10,
   "metadata": {},
   "outputs": [],
   "source": [
    "merged_df[merged_df['npxG'] >= 1].to_clipboard() # do some manual cleaning 'off-screen'"
   ]
  },
  {
   "cell_type": "code",
   "execution_count": 11,
   "metadata": {},
   "outputs": [],
   "source": [
    "df_cleaned = pd.read_csv(\"clean_fpl_xg_pos.csv\")"
   ]
  },
  {
   "cell_type": "code",
   "execution_count": 12,
   "metadata": {},
   "outputs": [],
   "source": [
    "df_merged = df[['Player', 'Squad', 'npxG']].merge(df_cleaned[['Player', 'first_name', 'second_name', 'element_type', 'now_cost']])\n",
    "df_merged = df_merged.rename(columns={\"Player\": \"Name\", \"Squad\": \"Club\", \"element_type\": \"Position\", \"now_cost\": \"Cost\"})"
   ]
  },
  {
   "cell_type": "code",
   "execution_count": 13,
   "metadata": {},
   "outputs": [
    {
     "name": "stdout",
     "output_type": "stream",
     "text": [
      "Selected Players:\n",
      "Aït-Nouri\n",
      "Bowen\n",
      "Burn\n",
      "Cash\n",
      "Díaz\n",
      "Doucouré\n",
      "Haaland\n",
      "Jackson\n",
      "Saka\n",
      "Salah\n",
      "\n",
      "Captain: Haaland\n",
      "Total Expected Goals (npxG): 133.6\n",
      "Total Cost: 790 million\n",
      "\n",
      "Selected Players by Position:\n",
      "FWDs: Haaland, Jackson\n",
      "MIDs: Bowen, Díaz, Doucouré, Saka, Salah\n",
      "DEFs: Aït-Nouri, Burn, Cash\n"
     ]
    }
   ],
   "source": [
    "# Parameters\n",
    "budget = 790  # FPL budget in millions\n",
    "max_players = 10  # Total number of players\n",
    "max_per_position = {\n",
    "    \"FWD\": 2,\n",
    "    \"MID\": 5,\n",
    "    \"DEF\": 3\n",
    "}\n",
    "\n",
    "max_per_club = 3  # Max players per club\n",
    "\n",
    "# Create a linear programming problem\n",
    "prob = pulp.LpProblem(\"Fantasy_Football_Team_Selection\", pulp.LpMaximize)\n",
    "\n",
    "# Decision variables: 1 if the player is selected, 0 otherwise\n",
    "x = pulp.LpVariable.dicts(\"x\", df_merged['second_name'], cat=\"Binary\")\n",
    "\n",
    "# Decision variables for captains: 1 if the player is selected as captain, 0 otherwise\n",
    "c = pulp.LpVariable.dicts(\"c\", df_merged['second_name'], cat=\"Binary\")\n",
    "\n",
    "# Objective function: Maximize the total expected goals (npxG), considering captaincy\n",
    "prob += pulp.lpSum([df_merged.loc[i, 'npxG'] * (x[df_merged.loc[i, 'second_name']] + c[df_merged.loc[i, 'second_name']]) for i in df_merged.index])\n",
    "\n",
    "# Constraint 1: Budget constraint\n",
    "prob += pulp.lpSum([df_merged.loc[i, 'Cost'] * x[df_merged.loc[i, 'second_name']] for i in df_merged.index]) <= budget\n",
    "\n",
    "# Constraint 2: Position constraints\n",
    "for position, max_count in max_per_position.items():\n",
    "    prob += pulp.lpSum([x[df_merged.loc[i, 'second_name']] for i in df_merged.index if df_merged.loc[i, 'Position'] == position]) <= max_count\n",
    "\n",
    "# Constraint 3: Total number of players\n",
    "prob += pulp.lpSum([x[df_merged.loc[i, 'second_name']] for i in df_merged.index]) == max_players\n",
    "\n",
    "# Constraint 4: Club constraints\n",
    "clubs = df_merged['Club'].unique()\n",
    "for club in clubs:\n",
    "    prob += pulp.lpSum([x[df_merged.loc[i, 'second_name']] for i in df_merged.index if df_merged.loc[i, 'Club'] == club]) <= max_per_club\n",
    "\n",
    "# Constraint 5: Exactly one captain\n",
    "prob += pulp.lpSum([c[df_merged.loc[i, 'second_name']] for i in df_merged.index]) == 1\n",
    "\n",
    "# Constraint 6: A player can only be captain if they are also in the team\n",
    "for i in df_merged.index:\n",
    "    prob += c[df_merged.loc[i, 'second_name']] <= x[df_merged.loc[i, 'second_name']]\n",
    "\n",
    "# Solve the problem\n",
    "prob.solve()\n",
    "\n",
    "# Display the selected players\n",
    "selected_players = [df_merged.loc[i, 'second_name'] for i in df_merged.index if x[df_merged.loc[i, 'second_name']].varValue == 1]\n",
    "captain = [df_merged.loc[i, 'second_name'] for i in df_merged.index if c[df_merged.loc[i, 'second_name']].varValue == 1][0]\n",
    "total_npxG = sum(df_merged.loc[i, 'npxG'] for i in df_merged.index if x[df_merged.loc[i, 'second_name']].varValue == 1) + \\\n",
    "             sum(df_merged.loc[i, 'npxG'] for i in df_merged.index if c[df_merged.loc[i, 'second_name']].varValue == 1)\n",
    "total_cost = sum(df_merged.loc[i, 'Cost'] for i in df_merged.index if x[df_merged.loc[i, 'second_name']].varValue == 1)\n",
    "\n",
    "# Print the selected players\n",
    "print(\"Selected Players:\")\n",
    "for player in selected_players:\n",
    "    print(player)\n",
    "print(f\"\\nCaptain: {captain}\")\n",
    "print(f\"Total Expected Goals (npxG): {total_npxG}\")\n",
    "print(f\"Total Cost: {total_cost} million\")\n",
    "\n",
    "# Print the selected players by position\n",
    "print(\"\\nSelected Players by Position:\")\n",
    "for position in max_per_position.keys():\n",
    "    players_in_position = [df_merged.loc[i, 'second_name'] for i in df_merged.index if x[df_merged.loc[i, 'second_name']].varValue == 1 and df_merged.loc[i, 'Position'] == position]\n",
    "    print(f\"{position}s: {', '.join(players_in_position)}\")"
   ]
  },
  {
   "cell_type": "code",
   "execution_count": null,
   "metadata": {},
   "outputs": [],
   "source": []
  }
 ],
 "metadata": {
  "kernelspec": {
   "display_name": ".venv",
   "language": "python",
   "name": "python3"
  },
  "language_info": {
   "codemirror_mode": {
    "name": "ipython",
    "version": 3
   },
   "file_extension": ".py",
   "mimetype": "text/x-python",
   "name": "python",
   "nbconvert_exporter": "python",
   "pygments_lexer": "ipython3",
   "version": "3.9.5"
  }
 },
 "nbformat": 4,
 "nbformat_minor": 2
}
